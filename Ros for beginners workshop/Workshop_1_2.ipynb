{
 "cells": [
  {
   "cell_type": "markdown",
   "metadata": {},
   "source": [
    "# ROS Workshop"
   ]
  },
  {
   "cell_type": "markdown",
   "metadata": {},
   "source": [
    "## Project 1\n",
    "### Make shapes with turtlesim"
   ]
  },
  {
   "cell_type": "code",
   "execution_count": null,
   "metadata": {},
   "outputs": [],
   "source": [
    "# Start rosmaster\n",
    "roscore"
   ]
  },
  {
   "cell_type": "code",
   "execution_count": null,
   "metadata": {},
   "outputs": [],
   "source": [
    "# Start turtlesim\n",
    "rosrun turtlesim turtlesim_node"
   ]
  },
  {
   "cell_type": "code",
   "execution_count": null,
   "metadata": {},
   "outputs": [],
   "source": [
    "# Print ros topics, services or parameters\n",
    "rostopic list\n",
    "rosservice list\n",
    "rosparam list"
   ]
  },
  {
   "cell_type": "code",
   "execution_count": null,
   "metadata": {},
   "outputs": [],
   "source": [
    "# Square\n",
    "rosrun turtlesim draw_square"
   ]
  },
  {
   "cell_type": "code",
   "execution_count": null,
   "metadata": {},
   "outputs": [],
   "source": [
    "# Square\n",
    "# Move forward\n",
    "# Turn 90 degrees\n",
    "# Move forward\n",
    "# Turn 90 degrees\n",
    "# Move forward\n",
    "# Turn 90 degrees\n",
    "# Move forward\n",
    "\n",
    "# Move forward\n",
    "rostopic pub -1 /turtle1/cmd_vel geometry_msgs/Twist \"linear:\n",
    "  x: 3.0\n",
    "  y: 0.0\n",
    "  z: 0.0\n",
    "angular:\n",
    "  x: 0.0\n",
    "  y: 0.0\n",
    "  z: 0.0\"\n",
    "\n",
    "# Turn 90 degrees\n",
    "rostopic pub -1 /turtle1/cmd_vel geometry_msgs/Twist \"linear:\n",
    "  x: 0.0\n",
    "  y: 0.0\n",
    "  z: 0.0\n",
    "angular:\n",
    "  x: 0.0\n",
    "  y: 0.0\n",
    "  z: 1.57\""
   ]
  },
  {
   "cell_type": "code",
   "execution_count": null,
   "metadata": {},
   "outputs": [],
   "source": [
    "# Triangle\n",
    "# Move forward\n",
    "# Turn 120 degrees\n",
    "# Move forward\n",
    "# Turn 120 degrees\n",
    "# Move forward\n",
    "\n",
    "# Turn 120 degrees\n",
    "rostopic pub -1 /turtle1/cmd_vel geometry_msgs/Twist \"linear:\n",
    "  x: 0.0\n",
    "  y: 0.0\n",
    "  z: 0.0\n",
    "angular:\n",
    "  x: 0.0\n",
    "  y: 0.0\n",
    "  z: 2.0933\""
   ]
  },
  {
   "cell_type": "code",
   "execution_count": null,
   "metadata": {},
   "outputs": [],
   "source": [
    "# Circle    \n",
    "rostopic pub -r 1 /turtle1/cmd_vel geometry_msgs/Twist -- '[2.0, 0.0, 0.0]' '[0.0, 0.0, 1.8]' "
   ]
  },
  {
   "cell_type": "code",
   "execution_count": null,
   "metadata": {},
   "outputs": [],
   "source": [
    "# Control turtle from keyboard\n",
    "rosrun turtlesim turtle_teleop_key "
   ]
  },
  {
   "cell_type": "markdown",
   "metadata": {},
   "source": [
    "## Project 2\n",
    "### Create a workspace"
   ]
  },
  {
   "cell_type": "code",
   "execution_count": null,
   "metadata": {},
   "outputs": [],
   "source": [
    "mkdir -p demo_ws/src\n",
    "cd ~/demo_ws/\n",
    "catkin_make\n",
    "source devel/setup.bash"
   ]
  },
  {
   "cell_type": "markdown",
   "metadata": {},
   "source": [
    "### Create a package, a publisher and a subscriber"
   ]
  },
  {
   "cell_type": "code",
   "execution_count": null,
   "metadata": {},
   "outputs": [],
   "source": [
    "cd ~/demo_ws/src\n",
    "catkin_create_pkg beginner_ros rospy\n",
    "cd beginner_ros/src\n",
    "\n",
    "touch publisher.py\n",
    "chmod +x publisher.py\n",
    "touch subscriber.py\n",
    "chmod +x subscriber.py"
   ]
  },
  {
   "cell_type": "markdown",
   "metadata": {},
   "source": [
    "#### publisher.py"
   ]
  },
  {
   "cell_type": "code",
   "execution_count": null,
   "metadata": {},
   "outputs": [],
   "source": [
    "#!/usr/bin/env python\n",
    "# license removed for brevity\n",
    "import rospy\n",
    "from std_msgs.msg import String\n",
    "\n",
    "def talker():\n",
    "    pub=rospy.Publisher(\"chatter\", String, queue_size=10)\n",
    "    rospy.init_node(\"talker\", anonymous=True)\n",
    "    rate=rospy.Rate(10) #10Hz\n",
    "    while not rospy.is_shutdown():\n",
    "        hello_str=\"Hello world %s\" % rospy.get_time()\n",
    "        rospy.loginfo(hello_str)\n",
    "        pub.publish(hello_str)\n",
    "        rate.sleep()\n",
    "\n",
    "if __name__ == \"__main__\":\n",
    "    try:\n",
    "        talker()\n",
    "    except rospy.ROSInterruptException:\n",
    "        pass"
   ]
  },
  {
   "cell_type": "markdown",
   "metadata": {},
   "source": [
    "#### subscriber.py"
   ]
  },
  {
   "cell_type": "code",
   "execution_count": null,
   "metadata": {},
   "outputs": [],
   "source": [
    "#!/usr/bin/env python\n",
    "# license removed for brevity\n",
    "import rospy\n",
    "from std_msgs.msg import String\n",
    "\n",
    "def callback(data):\n",
    "    rospy.loginfo(rospy.get_caller_id()+\"I heard %s\", data.data)\n",
    "\n",
    "def listener():    # In ROS, nodes are uniquely named. If two nodes with the same\n",
    "    # name are launched, the previous one is kicked off. The\n",
    "    # anonymous=True flag means that rospy will choose a unique\n",
    "    # name for our 'listener' node so that multiple listeners can\n",
    "    # run simultaneously.\n",
    "    rospy.init_node(\"listener\", anonymous=True)\n",
    "\n",
    "    rospy.Subscriber(\"chatter\", String, callback)\n",
    "\n",
    "    # spin() simply keeps python from exiting until node is stopped\n",
    "    rospy.spin()\n",
    "\n",
    "if __name__ == \"__main__\":\n",
    "    listener()"
   ]
  },
  {
   "cell_type": "markdown",
   "metadata": {},
   "source": [
    "### Run publisher and subscriber"
   ]
  },
  {
   "cell_type": "code",
   "execution_count": null,
   "metadata": {},
   "outputs": [],
   "source": [
    "cd ~/demo_ws\n",
    "catkin_make\n",
    "\n",
    "cd ~/demo_ws\n",
    "source ./devel/setup.bash\n",
    "rosrun beginner_tutorials publisher.py\n",
    "\n",
    "cd ~/demo_ws\n",
    "rosrun beginner_tutorials subscriber.py"
   ]
  }
 ],
 "metadata": {
  "kernelspec": {
   "display_name": "Python 3",
   "language": "python",
   "name": "python3"
  },
  "language_info": {
   "codemirror_mode": {
    "name": "ipython",
    "version": 3
   },
   "file_extension": ".py",
   "mimetype": "text/x-python",
   "name": "python",
   "nbconvert_exporter": "python",
   "pygments_lexer": "ipython3",
   "version": "3.8.8"
  }
 },
 "nbformat": 4,
 "nbformat_minor": 1
}
