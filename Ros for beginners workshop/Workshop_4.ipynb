{
 "cells": [
  {
   "cell_type": "markdown",
   "metadata": {},
   "source": [
    "# ROS Workshop"
   ]
  },
  {
   "cell_type": "markdown",
   "metadata": {},
   "source": [
    "## Project 4"
   ]
  },
  {
   "cell_type": "markdown",
   "metadata": {},
   "source": [
    "### Create a new package named my_mapping_launcher"
   ]
  },
  {
   "cell_type": "code",
   "execution_count": null,
   "metadata": {},
   "outputs": [],
   "source": [
    "cd ~/demo_ws/src\n",
    "catkin_create_pkg my_mapping_launcher rospy\n",
    "cd my_mapping_launcher/src"
   ]
  },
  {
   "cell_type": "markdown",
   "metadata": {},
   "source": [
    "### Inside this package create a directory named launch"
   ]
  },
  {
   "cell_type": "code",
   "execution_count": null,
   "metadata": {},
   "outputs": [],
   "source": [
    "mkdir launch"
   ]
  },
  {
   "cell_type": "markdown",
   "metadata": {},
   "source": [
    "### Inside this directory create a file named my_gmapping.launch"
   ]
  },
  {
   "cell_type": "code",
   "execution_count": null,
   "metadata": {},
   "outputs": [],
   "source": [
    "cd launch\n",
    "touch my_gmapping.launch"
   ]
  },
  {
   "cell_type": "markdown",
   "metadata": {},
   "source": [
    "#### my_gmapping.launch"
   ]
  },
  {
   "cell_type": "code",
   "execution_count": null,
   "metadata": {},
   "outputs": [],
   "source": [
    "<launch>\n",
    "  <arg name=\"scan_topic\"  default=\"kobuki/laser/scan\" />\n",
    "  <arg name=\"base_frame\"  default=\"base_footprint\"/>\n",
    "  <arg name=\"odom_frame\"  default=\"odom\"/>\n",
    "\n",
    "  <node pkg=\"gmapping\" type=\"slam_gmapping\" name=\"slam_gmapping\" output=\"screen\">\n",
    "    <param name=\"base_frame\" value=\"$(arg base_frame)\"/>\n",
    "    <param name=\"odom_frame\" value=\"$(arg odom_frame)\"/>\n",
    "    <param name=\"map_update_interval\" value=\"5.0\"/>\n",
    "    <param name=\"maxUrange\" value=\"6.0\"/>\n",
    "    <param name=\"maxRange\" value=\"8.0\"/>\n",
    "    <param name=\"sigma\" value=\"0.05\"/>\n",
    "    <param name=\"kernelSize\" value=\"1\"/>\n",
    "    <param name=\"lstep\" value=\"0.05\"/>\n",
    "    <param name=\"astep\" value=\"0.05\"/>\n",
    "    <param name=\"iterations\" value=\"5\"/>\n",
    "    <param name=\"lsigma\" value=\"0.075\"/>\n",
    "    <param name=\"ogain\" value=\"3.0\"/>\n",
    "    <param name=\"lskip\" value=\"0\"/>\n",
    "    <param name=\"minimumScore\" value=\"200\"/>\n",
    "    <param name=\"srr\" value=\"0.01\"/>\n",
    "    <param name=\"srt\" value=\"0.02\"/>\n",
    "    <param name=\"str\" value=\"0.01\"/>\n",
    "    <param name=\"stt\" value=\"0.02\"/>\n",
    "    <param name=\"linearUpdate\" value=\"0.5\"/>\n",
    "    <param name=\"angularUpdate\" value=\"0.436\"/>\n",
    "    <param name=\"temporalUpdate\" value=\"-1.0\"/>\n",
    "    <param name=\"resampleThreshold\" value=\"0.5\"/>\n",
    "    <param name=\"particles\" value=\"80\"/>\n",
    "  <!--\n",
    "    <param name=\"xmin\" value=\"-50.0\"/>\n",
    "    <param name=\"ymin\" value=\"-50.0\"/>\n",
    "    <param name=\"xmax\" value=\"50.0\"/>\n",
    "    <param name=\"ymax\" value=\"50.0\"/>\n",
    "  make the starting size small for the benefit of the Android client's memory...\n",
    "  -->\n",
    "    <param name=\"xmin\" value=\"-1.0\"/>\n",
    "    <param name=\"ymin\" value=\"-1.0\"/>\n",
    "    <param name=\"xmax\" value=\"1.0\"/>\n",
    "    <param name=\"ymax\" value=\"1.0\"/>\n",
    "\n",
    "    <param name=\"delta\" value=\"0.05\"/>\n",
    "    <param name=\"llsamplerange\" value=\"0.01\"/>\n",
    "    <param name=\"llsamplestep\" value=\"0.01\"/>\n",
    "    <param name=\"lasamplerange\" value=\"0.005\"/>\n",
    "    <param name=\"lasamplestep\" value=\"0.005\"/>\n",
    "    <remap from=\"scan\" to=\"$(arg scan_topic)\"/>\n",
    "  </node>\n",
    "</launch>"
   ]
  },
  {
   "cell_type": "markdown",
   "metadata": {},
   "source": [
    "### Launch the file to start the gmapping code"
   ]
  },
  {
   "cell_type": "code",
   "execution_count": null,
   "metadata": {},
   "outputs": [],
   "source": [
    "roslaunch my_mapping_launcher my_gmapping.launch "
   ]
  },
  {
   "cell_type": "markdown",
   "metadata": {},
   "source": [
    "### Launch the keyboard teleop to move the robot around"
   ]
  },
  {
   "cell_type": "markdown",
   "metadata": {},
   "source": [
    "#### Move the robot around in order to make the map of the room"
   ]
  },
  {
   "cell_type": "code",
   "execution_count": null,
   "metadata": {},
   "outputs": [],
   "source": [
    "roslaunch turtlebot_teleop keyboard_teleop.launch"
   ]
  },
  {
   "cell_type": "markdown",
   "metadata": {},
   "source": [
    "### Launch the Rviz to see the map while it is built"
   ]
  },
  {
   "cell_type": "code",
   "execution_count": null,
   "metadata": {},
   "outputs": [],
   "source": [
    "rosrun rviz rviz "
   ]
  },
  {
   "cell_type": "markdown",
   "metadata": {},
   "source": [
    "### Saving the map"
   ]
  },
  {
   "cell_type": "code",
   "execution_count": null,
   "metadata": {},
   "outputs": [],
   "source": [
    "cd demo_ws/src/my_mapping_launcher/src/\n",
    "rosrun map_server map_saver -f map_name"
   ]
  },
  {
   "cell_type": "markdown",
   "metadata": {},
   "source": [
    "### Stop all the files you run"
   ]
  },
  {
   "cell_type": "markdown",
   "metadata": {},
   "source": [
    "### Start the map provider with the map you saved"
   ]
  },
  {
   "cell_type": "code",
   "execution_count": null,
   "metadata": {},
   "outputs": [],
   "source": [
    "rosrun map_server map_server map_name.yaml"
   ]
  },
  {
   "cell_type": "markdown",
   "metadata": {},
   "source": [
    "### Create a new package named my_localizer_launcher"
   ]
  },
  {
   "cell_type": "code",
   "execution_count": null,
   "metadata": {},
   "outputs": [],
   "source": [
    "cd ~/demo_ws/src\n",
    "catkin_create_pkg my_localizer_launcher\n",
    "cd my_localizer_launcher/src"
   ]
  },
  {
   "cell_type": "markdown",
   "metadata": {},
   "source": [
    "### Inside this package create a directory named launch"
   ]
  },
  {
   "cell_type": "code",
   "execution_count": null,
   "metadata": {},
   "outputs": [],
   "source": [
    "mkdir launch"
   ]
  },
  {
   "cell_type": "markdown",
   "metadata": {},
   "source": [
    "### Ιnside this directory create a file named my_localizer.launch"
   ]
  },
  {
   "cell_type": "code",
   "execution_count": null,
   "metadata": {},
   "outputs": [],
   "source": [
    "cd launch\n",
    "touch named my_localizer.launch"
   ]
  },
  {
   "cell_type": "markdown",
   "metadata": {},
   "source": [
    "#### my_localizer.launch"
   ]
  },
  {
   "cell_type": "code",
   "execution_count": null,
   "metadata": {},
   "outputs": [],
   "source": [
    "<launch>\n",
    "  <arg name=\"use_map_topic\"   default=\"false\"/>\n",
    "  <arg name=\"scan_topic\"      default=\"kobuki/laser/scan\"/> \n",
    "  <arg name=\"initial_pose_x\"  default=\"0.0\"/>\n",
    "  <arg name=\"initial_pose_y\"  default=\"0.0\"/>\n",
    "  <arg name=\"initial_pose_a\"  default=\"0.0\"/>\n",
    "  <arg name=\"odom_frame_id\"   default=\"odom\"/>\n",
    "  <arg name=\"base_frame_id\"   default=\"base_footprint\"/>\n",
    "  <arg name=\"global_frame_id\" default=\"map\"/>\n",
    "\n",
    "  <node pkg=\"amcl\" type=\"amcl\" name=\"amcl\">\n",
    "    <param name=\"use_map_topic\"             value=\"$(arg use_map_topic)\"/>\n",
    "    <!-- Publish scans from best pose at a max of 10 Hz -->\n",
    "    <param name=\"odom_model_type\"           value=\"diff\"/>\n",
    "    <param name=\"odom_alpha5\"               value=\"0.1\"/>\n",
    "    <param name=\"gui_publish_rate\"          value=\"10.0\"/>\n",
    "    <param name=\"laser_max_beams\"             value=\"60\"/>\n",
    "    <param name=\"laser_max_range\"           value=\"12.0\"/>\n",
    "    <param name=\"min_particles\"             value=\"500\"/>\n",
    "    <param name=\"max_particles\"             value=\"2000\"/>\n",
    "    <param name=\"kld_err\"                   value=\"0.05\"/>\n",
    "    <param name=\"kld_z\"                     value=\"0.99\"/>\n",
    "    <param name=\"odom_alpha1\"               value=\"0.2\"/>\n",
    "    <param name=\"odom_alpha2\"               value=\"0.2\"/>\n",
    "    <!-- translation std dev, m -->\n",
    "    <param name=\"odom_alpha3\"               value=\"0.2\"/>\n",
    "    <param name=\"odom_alpha4\"               value=\"0.2\"/>\n",
    "    <param name=\"laser_z_hit\"               value=\"0.5\"/>\n",
    "    <param name=\"laser_z_short\"             value=\"0.05\"/>\n",
    "    <param name=\"laser_z_max\"               value=\"0.05\"/>\n",
    "    <param name=\"laser_z_rand\"              value=\"0.5\"/>\n",
    "    <param name=\"laser_sigma_hit\"           value=\"0.2\"/>\n",
    "    <param name=\"laser_lambda_short\"        value=\"0.1\"/>\n",
    "    <param name=\"laser_model_type\"          value=\"likelihood_field\"/>\n",
    "    <!-- <param name=\"laser_model_type\" value=\"beam\"/> -->\n",
    "    <param name=\"laser_likelihood_max_dist\" value=\"2.0\"/>\n",
    "    <param name=\"update_min_d\"              value=\"0.25\"/>\n",
    "    <param name=\"update_min_a\"              value=\"0.2\"/>\n",
    "    <param name=\"odom_frame_id\"             value=\"$(arg odom_frame_id)\"/> \n",
    "    <param name=\"base_frame_id\"             value=\"$(arg base_frame_id)\"/> \n",
    "    <param name=\"global_frame_id\"           value=\"$(arg global_frame_id)\"/>\n",
    "    <param name=\"resample_interval\"         value=\"1\"/>\n",
    "    <!-- Increase tolerance because the computer can get quite busy -->\n",
    "    <param name=\"transform_tolerance\"       value=\"1.0\"/>\n",
    "    <param name=\"recovery_alpha_slow\"       value=\"0.0\"/>\n",
    "    <param name=\"recovery_alpha_fast\"       value=\"0.0\"/>\n",
    "    <param name=\"initial_pose_x\"            value=\"$(arg initial_pose_x)\"/>\n",
    "    <param name=\"initial_pose_y\"            value=\"$(arg initial_pose_y)\"/>\n",
    "    <param name=\"initial_pose_a\"            value=\"$(arg initial_pose_a)\"/>\n",
    "    <remap from=\"scan\"                      to=\"$(arg scan_topic)\"/>\n",
    "  </node>\n",
    "</launch>"
   ]
  },
  {
   "cell_type": "markdown",
   "metadata": {},
   "source": [
    "### Launch the file to start the localization code"
   ]
  },
  {
   "cell_type": "code",
   "execution_count": null,
   "metadata": {},
   "outputs": [],
   "source": [
    "roslaunch my_localizer_launcher my_localizer.launch"
   ]
  },
  {
   "cell_type": "markdown",
   "metadata": {},
   "source": [
    "### Launch the Rviz to see how the robot localizes"
   ]
  },
  {
   "cell_type": "markdown",
   "metadata": {},
   "source": [
    "#### With 2D Pose Estimate array correct the position of the robot in order to match with its true position"
   ]
  },
  {
   "cell_type": "code",
   "execution_count": null,
   "metadata": {},
   "outputs": [],
   "source": [
    "rosrun rviz rviz"
   ]
  },
  {
   "cell_type": "markdown",
   "metadata": {},
   "source": [
    "### Stop all the files you run"
   ]
  },
  {
   "cell_type": "markdown",
   "metadata": {},
   "source": [
    "### Let's launch the map server and the localization\n",
    "### First thing we need to do is to launch the map server and the localization system"
   ]
  },
  {
   "cell_type": "code",
   "execution_count": null,
   "metadata": {},
   "outputs": [],
   "source": [
    "cd catkin_ws/src/my_mapping_launcher/src/\n",
    "rosrun map_server map_server map_name.yaml\n",
    "roslaunch my_localizer_launcher my_localizer.launch"
   ]
  },
  {
   "cell_type": "markdown",
   "metadata": {},
   "source": [
    "### Launch the Rviz to localize the robot in the map"
   ]
  },
  {
   "cell_type": "code",
   "execution_count": null,
   "metadata": {},
   "outputs": [],
   "source": [
    "rosrun rviz rviz"
   ]
  },
  {
   "cell_type": "markdown",
   "metadata": {},
   "source": [
    "### Make the robot move autonomously\n",
    "### Create a new package named my_move_base\n",
    "### Inside this package create a directory named launch"
   ]
  },
  {
   "cell_type": "code",
   "execution_count": null,
   "metadata": {},
   "outputs": [],
   "source": [
    "cd ~/demo_ws/src\n",
    "catkin_create_pkg my_move_base\n",
    "cd my_move_base/src\n",
    "mkdir launch"
   ]
  },
  {
   "cell_type": "markdown",
   "metadata": {},
   "source": [
    "### Inside this directory create a file named my_move_base.launch"
   ]
  },
  {
   "cell_type": "code",
   "execution_count": null,
   "metadata": {},
   "outputs": [],
   "source": [
    "cd launch\n",
    "touch my_move_base.launch"
   ]
  },
  {
   "cell_type": "markdown",
   "metadata": {},
   "source": [
    "#### my_move_base.launch"
   ]
  },
  {
   "cell_type": "code",
   "execution_count": null,
   "metadata": {},
   "outputs": [],
   "source": [
    "<!--\n",
    "    ROS navigation stack with velocity smoother and safety (reactive) controller\n",
    "-->\n",
    "<launch>\n",
    "  <include file=\"$(find turtlebot_navigation)/launch/includes/velocity_smoother.launch.xml\"/>\n",
    "  <include file=\"$(find turtlebot_navigation)/launch/includes/safety_controller.launch.xml\"/>\n",
    "\n",
    "  <arg name=\"odom_frame_id\"   default=\"odom\"/>\n",
    "  <arg name=\"base_frame_id\"   default=\"base_footprint\"/>\n",
    "  <arg name=\"global_frame_id\" default=\"map\"/>\n",
    "  <arg name=\"odom_topic\" default=\"odom\" />\n",
    "  <arg name=\"laser_topic\" default=\"/kobuki/laser/scan\" />\n",
    "  <arg name=\"custom_param_file\" default=\"$(find turtlebot_navigation)/param/dummy.yaml\"/>\n",
    "\n",
    "  <node pkg=\"move_base\" type=\"move_base\" respawn=\"false\" name=\"move_base\" output=\"screen\">\n",
    "    <rosparam file=\"$(find turtlebot_navigation)/param/costmap_common_params.yaml\" command=\"load\" ns=\"global_costmap\" />\n",
    "    <rosparam file=\"$(find turtlebot_navigation)/param/costmap_common_params.yaml\" command=\"load\" ns=\"local_costmap\" />\n",
    "    <rosparam file=\"$(find turtlebot_navigation)/param/local_costmap_params.yaml\" command=\"load\" />\n",
    "    <rosparam file=\"$(find turtlebot_navigation)/param/global_costmap_params.yaml\" command=\"load\" />\n",
    "    <rosparam file=\"$(find turtlebot_navigation)/param/dwa_local_planner_params.yaml\" command=\"load\" />\n",
    "    <rosparam file=\"$(find turtlebot_navigation)/param/move_base_params.yaml\" command=\"load\" />\n",
    "    <rosparam file=\"$(find turtlebot_navigation)/param/global_planner_params.yaml\" command=\"load\" />\n",
    "    <rosparam file=\"$(find turtlebot_navigation)/param/navfn_global_planner_params.yaml\" command=\"load\" />\n",
    "    <!-- external params file that could be loaded into the move_base namespace -->\n",
    "    <rosparam file=\"$(arg custom_param_file)\" command=\"load\" />\n",
    "\n",
    "    <!-- reset frame_id parameters using user input data -->\n",
    "    <param name=\"global_costmap/global_frame\" value=\"$(arg global_frame_id)\"/>\n",
    "    <param name=\"global_costmap/robot_base_frame\" value=\"$(arg base_frame_id)\"/>\n",
    "    <param name=\"local_costmap/global_frame\" value=\"$(arg odom_frame_id)\"/>\n",
    "    <param name=\"local_costmap/robot_base_frame\" value=\"$(arg base_frame_id)\"/>\n",
    "    <param name=\"DWAPlannerROS/global_frame_id\" value=\"$(arg odom_frame_id)\"/>\n",
    "\n",
    "    <remap from=\"cmd_vel\" to=\"/cmd_vel\"/>\n",
    "    <remap from=\"odom\" to=\"$(arg odom_topic)\"/>\n",
    "    <remap from=\"scan\" to=\"$(arg laser_topic)\"/>\n",
    "  </node>\n",
    "</launch>"
   ]
  },
  {
   "cell_type": "markdown",
   "metadata": {},
   "source": [
    "### Launch the file to start the moving autonomously"
   ]
  },
  {
   "cell_type": "code",
   "execution_count": null,
   "metadata": {},
   "outputs": [],
   "source": [
    "roslaunch my_move_base my_move_base.launch"
   ]
  },
  {
   "cell_type": "markdown",
   "metadata": {},
   "source": [
    "## Make the robot localize and move autonomously"
   ]
  },
  {
   "cell_type": "code",
   "execution_count": null,
   "metadata": {},
   "outputs": [],
   "source": [
    "cd catkin_ws/src/my_mapping_launcher/src/\n",
    "rosrun map_server map_server map_name.yaml"
   ]
  },
  {
   "cell_type": "code",
   "execution_count": null,
   "metadata": {},
   "outputs": [],
   "source": [
    "roslaunch my_localizer_launcher my_localizer.launch"
   ]
  },
  {
   "cell_type": "code",
   "execution_count": null,
   "metadata": {},
   "outputs": [],
   "source": [
    "rosrun rviz rviz"
   ]
  },
  {
   "cell_type": "code",
   "execution_count": null,
   "metadata": {},
   "outputs": [],
   "source": [
    "roslaunch my_move_base my_move_base.launch"
   ]
  },
  {
   "cell_type": "markdown",
   "metadata": {},
   "source": [
    "#### With 2D Pose Estimate array correct the position of the robot in order to match with its true position\n",
    "#### With 2D Nav Goal send the robot to a position and watch it go there"
   ]
  }
 ],
 "metadata": {
  "kernelspec": {
   "display_name": "Python 3",
   "language": "python",
   "name": "python3"
  },
  "language_info": {
   "codemirror_mode": {
    "name": "ipython",
    "version": 3
   },
   "file_extension": ".py",
   "mimetype": "text/x-python",
   "name": "python",
   "nbconvert_exporter": "python",
   "pygments_lexer": "ipython3",
   "version": "3.8.8"
  }
 },
 "nbformat": 4,
 "nbformat_minor": 2
}
